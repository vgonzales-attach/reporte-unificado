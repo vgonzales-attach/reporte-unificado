{
 "nbformat": 4,
 "nbformat_minor": 2,
 "metadata": {
  "language_info": {
   "name": "python",
   "codemirror_mode": {
    "name": "ipython",
    "version": 3
   },
   "version": "3.7.1-final"
  },
  "orig_nbformat": 2,
  "file_extension": ".py",
  "mimetype": "text/x-python",
  "name": "python",
  "npconvert_exporter": "python",
  "pygments_lexer": "ipython3",
  "version": 3,
  "kernelspec": {
   "name": "python3",
   "display_name": "Python 3"
  }
 },
 "cells": [
  {
   "cell_type": "code",
   "execution_count": null,
   "metadata": {},
   "outputs": [],
   "source": [
    "import os.path\n",
    "import pandas as pd \n",
    "import numpy as np\n",
    "from datetime import datetime\n",
    "import xlsxwriter\n",
    "import glob\n",
    "import re"
   ]
  },
  {
   "cell_type": "code",
   "execution_count": null,
   "metadata": {},
   "outputs": [],
   "source": [
    "class ReporteUM:\n",
    "    def __init__(self, file):\n",
    "        self.today = datetime.today().strftime('%Y-%m-%d')\n",
    "        self.input = file\n",
    "        self.output = re.sub(r'input', 'output', file)\n",
    "        self.sheet = \"UNIFICADO_MOVIL\"\n",
    "        #self.output = 'REPORTE_UNIFICADO_MOVIL_{}.xlsx'.format(self.today)\n",
    "\n",
    "\n",
    "    def upload(self):\n",
    "        if os.path.isfile(self.input):\n",
    "            self.rp = pd.read_excel(self.input, index_col=0, sheet_name=self.sheet)\n",
    "            self.rp = self.rp.reset_index()\n",
    "            print(\"xlsx imported as rp\")\n",
    "            # print(type(self.rp))\n",
    "            shape_before_transformation = self.rp.shape\n",
    "            print('before transformation: ', shape_before_transformation)\n",
    "        else:\n",
    "            print(\"no data file in root.\")\n",
    "    \n",
    "\n",
    "    def clean(self):\n",
    "        self.rp = self.rp.replace(np.nan, '', regex=True) # NaN to empty string\n",
    "        self.rp[\"id_pedido\"] = self.rp[\"id_pedido\"].astype(str)\n",
    "        filter = self.rp[\"id_pedido\"].str.contains(\"[A-Za-z]\", na = False)\n",
    "        self.rp = self.rp[filter == False] # Lo opuesto al filtro\n",
    "        shape_clean_data = self.rp.shape\n",
    "        print('clean data:', shape_clean_data)\n",
    "\n",
    "\n",
    "    def filter_by_month(self, mo):\n",
    "        filter = self.rp[\"fec_registro\"].dt.month.isin([mo])\n",
    "        self.rp = self.rp[filter]\n",
    "        shape_current_month = self.rp.shape\n",
    "        print('current month:', shape_current_month)\n",
    "\n",
    "\n",
    "    def transform(self):        \n",
    "        self.search = \"10\"\n",
    "        self.bool_rp = self.rp[\"id_pedido\"].str.startswith(self.search, na=False)\n",
    "        # print(self.bool_rp)\n",
    "        self.rp10 = self.rp[self.bool_rp]\n",
    "        # print(self.rp10)\n",
    "    \n",
    "\n",
    "    def merge(self):\n",
    "        self.rpm = pd.merge(self.rp, self.rp10[['contactid', 'id_pedido']], on='contactid', how = 'left')\n",
    "        #self.rpm = self.rpm.drop('id_pedido_x', axis = 1)\n",
    "        #self.rpm = self.rpm.rename({'id_pedido_y':'id_pedido'}, axis = 1)\n",
    "        self.rpm['id_pedido_y'] = self.rpm['id_pedido_y'].fillna(self.rp['id_pedido'])\n",
    "        # rgx = r'\\w+[\\d@]\\w+|^$|nan'\n",
    "        # filter = self.rpm['id_pedido_y'].str.contains(rgx)\n",
    "        # self.rpm = self.rpm[filter]\n",
    "        shape_after_transformation = self.rpm.shape\n",
    "        print('after transformation: ', shape_after_transformation)\n",
    "\n",
    "\n",
    "    def export(self):\n",
    "        engine = 'xlsxwriter' # or 'openpyxl', 'xlwt'\n",
    "        writer = pd.ExcelWriter(self.output, engine=engine)\n",
    "        self.rpm.to_excel(writer, index=False)\n",
    "        writer.close()\n",
    "        #self.rpm.to_excel(self.output, index=False)\n",
    "\n",
    "\n",
    "    def log(self, file_name):\n",
    "        ts = datetime.now()\n",
    "        ts = ts.strftime('%Y-%m-%d %H:%M:%S')\n",
    "        lvar = str(len(self.rpm))\n",
    "        with open(file_name, \"a+\") as file_object:\n",
    "            file_object.write(ts)\n",
    "            file_object.write(\",\")\n",
    "            file_object.write(lvar)\n",
    "            file_object.write(\"\\n\")"
   ]
  },
  {
   "cell_type": "code",
   "execution_count": null,
   "metadata": {},
   "outputs": [],
   "source": [
    "# files = list(glob.glob('input/*'))\n",
    "# for file in files:\n",
    "#     reporte = ReporteUM(file)\n",
    "#     time_0 = datetime.now().time()\n",
    "#     print('time_0: ', time_0)\n",
    "\n",
    "#     reporte.upload()\n",
    "#     time_1 = datetime.now().time()\n",
    "#     print('time_1: ', time_1)\n",
    "\n",
    "#     # reporte.filter_by_month(2)\n",
    "#     reporte.filter_by_month(datetime.now().month)\n",
    "#     time_2 = datetime.now().time()\n",
    "#     print('time_2: ', time_2)\n",
    "\n",
    "#     reporte.transform()\n",
    "#     time_3 = datetime.now().time()\n",
    "#     print('time_3: ', time_3)"
   ]
  },
  {
   "cell_type": "code",
   "execution_count": null,
   "metadata": {},
   "outputs": [],
   "source": [
    "files = list(glob.glob('input/*'))\n",
    "file = files[0]"
   ]
  },
  {
   "cell_type": "code",
   "execution_count": null,
   "metadata": {},
   "outputs": [],
   "source": [
    "reporte = ReporteUM(file)\n",
    "reporte.upload()\n",
    "# reporte.filter_by_month(datetime.now().month)"
   ]
  },
  {
   "cell_type": "code",
   "execution_count": null,
   "metadata": {},
   "outputs": [],
   "source": [
    "# reporte.clean()\n",
    "reporte.rp = reporte.rp.replace(np.nan, '', regex=True) # NaN to empty string\n",
    "reporte.rp[\"id_pedido\"] = reporte.rp[\"id_pedido\"].astype(str)\n",
    "filter = reporte.rp[\"id_pedido\"].str.contains(\"[A-Za-z]\", na = False)\n",
    "reporte.rp = reporte.rp[filter == False] # Lo opuesto al filtro\n",
    "shape_clean_data = reporte.rp.shape\n",
    "print('clean data:', shape_clean_data)\n",
    "# reporte.rp"
   ]
  },
  {
   "cell_type": "code",
   "execution_count": null,
   "metadata": {},
   "outputs": [],
   "source": [
    "reporte.filter_by_month(datetime.now().month)"
   ]
  },
  {
   "cell_type": "code",
   "execution_count": null,
   "metadata": {},
   "outputs": [],
   "source": [
    "reporte.transform()"
   ]
  },
  {
   "cell_type": "code",
   "execution_count": null,
   "metadata": {},
   "outputs": [],
   "source": [
    "reporte.merge()"
   ]
  },
  {
   "cell_type": "code",
   "execution_count": null,
   "metadata": {},
   "outputs": [],
   "source": [
    "reporte.export()"
   ]
  },
  {
   "cell_type": "code",
   "execution_count": null,
   "metadata": {},
   "outputs": [],
   "source": [
    "reporte.log(file)"
   ]
  },
  {
   "cell_type": "code",
   "execution_count": null,
   "metadata": {},
   "outputs": [],
   "source": []
  }
 ]
}