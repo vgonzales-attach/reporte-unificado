{
 "nbformat": 4,
 "nbformat_minor": 2,
 "metadata": {
  "language_info": {
   "name": "python",
   "codemirror_mode": {
    "name": "ipython",
    "version": 3
   },
   "version": "3.7.1-final"
  },
  "orig_nbformat": 2,
  "file_extension": ".py",
  "mimetype": "text/x-python",
  "name": "python",
  "npconvert_exporter": "python",
  "pygments_lexer": "ipython3",
  "version": 3,
  "kernelspec": {
   "name": "python3",
   "display_name": "Python 3"
  }
 },
 "cells": [
  {
   "cell_type": "code",
   "execution_count": 1,
   "metadata": {},
   "outputs": [],
   "source": [
    "import os.path\n",
    "import pandas as pd \n",
    "import numpy as np\n",
    "from datetime import datetime\n",
    "import xlsxwriter\n",
    "import glob\n",
    "import re"
   ]
  },
  {
   "cell_type": "code",
   "execution_count": 6,
   "metadata": {},
   "outputs": [],
   "source": [
    "reporte = pd.read_excel('output/REPORTE_UNIFICADO_MOVIL_FEB-MAR_2020.xlsx', index_col=0)"
   ]
  },
  {
   "cell_type": "code",
   "execution_count": 19,
   "metadata": {},
   "outputs": [
    {
     "output_type": "execute_result",
     "data": {
      "text/plain": "                                                   tipo_gestion  id_pedido_x  \\\ncontactid                                                                      \na780d55ae00548dc93f4542e9a41bd57      TmpMovilOnLineRegular2_AD  556281080.0   \n416e006a1213490ebdfd6013252b892e      TmpMovilOnLineRegular2_AD          NaN   \n5cf2b47fb1a847d9a1d4836fb3fdd160      TmpMovilOnLineRegular2_AD  556364810.0   \n5cf2b47fb1a847d9a1d4836fb3fdd160      TmpMovilOnLineRegular2_AD  556363783.0   \n81FE0195-370D-48F9-AE40-04FADE6F35C5  TmpMovilOnLineRegular2_AD  556908840.0   \n589cf9bc42e149fdafd935bc01109b08      TmpMovilOnLineRegular2_AD  556376648.0   \n42C4BA4A-BE24-48BA-9DCE-636CBF725C07  TmpMovilOnLineRegular2_AD          NaN   \n5c5c2a691e344a9b8d06e95d29103570      TmpMovilOnLineRegular2_AD  556386237.0   \n6de09ae1772b4263ab45e0be51c33bea      TmpMovilOnLineRegular2_AD          NaN   \n15d3937baef44ed79e754170ae9e8807      TmpMovilOnLineRegular2_AD  556884427.0   \n\n                                      id_gss_ws  id_producto    nom_campana  \\\ncontactid                                                                     \na780d55ae00548dc93f4542e9a41bd57      5549241.0            0   CHIP M4 ALTA   \n416e006a1213490ebdfd6013252b892e      5549409.0            0  CHIP M4 PORTA   \n5cf2b47fb1a847d9a1d4836fb3fdd160      5549589.0            0  CHIP M4 PORTA   \n5cf2b47fb1a847d9a1d4836fb3fdd160      5549589.0            0  CHIP M4 PORTA   \n81FE0195-370D-48F9-AE40-04FADE6F35C5        NaN            0  CHIP M4 PORTA   \n589cf9bc42e149fdafd935bc01109b08      5549674.0            0   CHIP M4 ALTA   \n42C4BA4A-BE24-48BA-9DCE-636CBF725C07        NaN            0  CHIP M4 PORTA   \n5c5c2a691e344a9b8d06e95d29103570      5549977.0            0   CHIP M4 ALTA   \n6de09ae1772b4263ab45e0be51c33bea      5550099.0            0   CHIP M4 ALTA   \n15d3937baef44ed79e754170ae9e8807      5550268.0            0  CHIP M4 PORTA   \n\n                                                                           nom_producto  \\\ncontactid                                                                                 \na780d55ae00548dc93f4542e9a41bd57      Samsung Galaxy A30s|NEGRO|Residencial|Portabil...   \n416e006a1213490ebdfd6013252b892e      Samsung Galaxy A30s|NEGRO|Residencial|Portabil...   \n5cf2b47fb1a847d9a1d4836fb3fdd160      Movistar Chip Mi Movistar|NEGRO|Residencial|Po...   \n5cf2b47fb1a847d9a1d4836fb3fdd160      Movistar Chip Mi Movistar|NEGRO|Residencial|Po...   \n81FE0195-370D-48F9-AE40-04FADE6F35C5                                                NaN   \n589cf9bc42e149fdafd935bc01109b08      Samsung Galaxy A20s|NEGRO|Residencial|Portabil...   \n42C4BA4A-BE24-48BA-9DCE-636CBF725C07                                                NaN   \n5c5c2a691e344a9b8d06e95d29103570      Samsung Galaxy A20s|NEGRO|Residencial|Portabil...   \n6de09ae1772b4263ab45e0be51c33bea      Samsung Galaxy A20s|NEGRO|Residencial|Portabil...   \n15d3937baef44ed79e754170ae9e8807      Huawei Y6 2019|NEGRO|Residencial|Portabilidad|...   \n\n                                      preciooferta Nom_Cliente  \\\ncontactid                                                        \na780d55ae00548dc93f4542e9a41bd57               0.0     nombres   \n416e006a1213490ebdfd6013252b892e               0.0     nombres   \n5cf2b47fb1a847d9a1d4836fb3fdd160               0.0         NaN   \n5cf2b47fb1a847d9a1d4836fb3fdd160               0.0         NaN   \n81FE0195-370D-48F9-AE40-04FADE6F35C5           NaN     nombres   \n589cf9bc42e149fdafd935bc01109b08               0.0     nombres   \n42C4BA4A-BE24-48BA-9DCE-636CBF725C07           NaN        demo   \n5c5c2a691e344a9b8d06e95d29103570               0.0         NaN   \n6de09ae1772b4263ab45e0be51c33bea               0.0     nombres   \n15d3937baef44ed79e754170ae9e8807               0.0     nombres   \n\n                                     ApellidoCliente                  email  \\\ncontactid                                                                     \na780d55ae00548dc93f4542e9a41bd57                 NaN          demo@demo.com   \n416e006a1213490ebdfd6013252b892e                 NaN          demo@demo.com   \n5cf2b47fb1a847d9a1d4836fb3fdd160                 NaN          demo@demo.com   \n5cf2b47fb1a847d9a1d4836fb3fdd160                 NaN          demo@demo.com   \n81FE0195-370D-48F9-AE40-04FADE6F35C5              No                    NaN   \n589cf9bc42e149fdafd935bc01109b08                 NaN          demo@demo.com   \n42C4BA4A-BE24-48BA-9DCE-636CBF725C07              No                    NaN   \n5c5c2a691e344a9b8d06e95d29103570                 NaN  non-data@non-data.com   \n6de09ae1772b4263ab45e0be51c33bea                 NaN          demo@demo.com   \n15d3937baef44ed79e754170ae9e8807                 NaN          demo@demo.com   \n\n                                      ...  MT_cmbOperacionMovil2BO  \\\ncontactid                             ...                            \na780d55ae00548dc93f4542e9a41bd57      ...                      NaN   \n416e006a1213490ebdfd6013252b892e      ...                      NaN   \n5cf2b47fb1a847d9a1d4836fb3fdd160      ...                      NaN   \n5cf2b47fb1a847d9a1d4836fb3fdd160      ...                      NaN   \n81FE0195-370D-48F9-AE40-04FADE6F35C5  ...                      NaN   \n589cf9bc42e149fdafd935bc01109b08      ...                      NaN   \n42C4BA4A-BE24-48BA-9DCE-636CBF725C07  ...                      NaN   \n5c5c2a691e344a9b8d06e95d29103570      ...                      NaN   \n6de09ae1772b4263ab45e0be51c33bea      ...                      NaN   \n15d3937baef44ed79e754170ae9e8807      ...                      NaN   \n\n                                      MT_cmbSubOperacionMovil2BO  \\\ncontactid                                                          \na780d55ae00548dc93f4542e9a41bd57                             NaN   \n416e006a1213490ebdfd6013252b892e                             NaN   \n5cf2b47fb1a847d9a1d4836fb3fdd160                             NaN   \n5cf2b47fb1a847d9a1d4836fb3fdd160                             NaN   \n81FE0195-370D-48F9-AE40-04FADE6F35C5                         NaN   \n589cf9bc42e149fdafd935bc01109b08                             NaN   \n42C4BA4A-BE24-48BA-9DCE-636CBF725C07                         NaN   \n5c5c2a691e344a9b8d06e95d29103570                             NaN   \n6de09ae1772b4263ab45e0be51c33bea                             NaN   \n15d3937baef44ed79e754170ae9e8807                             NaN   \n\n                                      MT_cmbOperacionFijaBO  \\\ncontactid                                                     \na780d55ae00548dc93f4542e9a41bd57                        NaN   \n416e006a1213490ebdfd6013252b892e                        NaN   \n5cf2b47fb1a847d9a1d4836fb3fdd160                        NaN   \n5cf2b47fb1a847d9a1d4836fb3fdd160                        NaN   \n81FE0195-370D-48F9-AE40-04FADE6F35C5                    NaN   \n589cf9bc42e149fdafd935bc01109b08                        NaN   \n42C4BA4A-BE24-48BA-9DCE-636CBF725C07                    NaN   \n5c5c2a691e344a9b8d06e95d29103570                        NaN   \n6de09ae1772b4263ab45e0be51c33bea                        NaN   \n15d3937baef44ed79e754170ae9e8807                        NaN   \n\n                                      MT_cmbSubOperacionFijaBO  \\\ncontactid                                                        \na780d55ae00548dc93f4542e9a41bd57                           NaN   \n416e006a1213490ebdfd6013252b892e                           NaN   \n5cf2b47fb1a847d9a1d4836fb3fdd160                           NaN   \n5cf2b47fb1a847d9a1d4836fb3fdd160                           NaN   \n81FE0195-370D-48F9-AE40-04FADE6F35C5                       NaN   \n589cf9bc42e149fdafd935bc01109b08                           NaN   \n42C4BA4A-BE24-48BA-9DCE-636CBF725C07                       NaN   \n5c5c2a691e344a9b8d06e95d29103570                           NaN   \n6de09ae1772b4263ab45e0be51c33bea                           NaN   \n15d3937baef44ed79e754170ae9e8807                           NaN   \n\n                                      PRODUCTO_VENTA  Numero0800  \\\ncontactid                                                          \na780d55ae00548dc93f4542e9a41bd57           CHIP Alta         NaN   \n416e006a1213490ebdfd6013252b892e          CHIP Porta         NaN   \n5cf2b47fb1a847d9a1d4836fb3fdd160          CHIP Porta         NaN   \n5cf2b47fb1a847d9a1d4836fb3fdd160          CHIP Porta         NaN   \n81FE0195-370D-48F9-AE40-04FADE6F35C5      CHIP Porta         NaN   \n589cf9bc42e149fdafd935bc01109b08           CHIP Alta         NaN   \n42C4BA4A-BE24-48BA-9DCE-636CBF725C07      CHIP Porta         NaN   \n5c5c2a691e344a9b8d06e95d29103570           CHIP Alta         NaN   \n6de09ae1772b4263ab45e0be51c33bea           CHIP Alta         NaN   \n15d3937baef44ed79e754170ae9e8807          CHIP Porta         NaN   \n\n                                                 Submotivo_confirma  \\\ncontactid                                                             \na780d55ae00548dc93f4542e9a41bd57               PREVENTAS INGRESADAS   \n416e006a1213490ebdfd6013252b892e                PROBLEMAS CON AUDIO   \n5cf2b47fb1a847d9a1d4836fb3fdd160               PREVENTAS INGRESADAS   \n5cf2b47fb1a847d9a1d4836fb3fdd160               PREVENTAS INGRESADAS   \n81FE0195-370D-48F9-AE40-04FADE6F35C5           PREVENTAS INGRESADAS   \n589cf9bc42e149fdafd935bc01109b08               PREVENTAS INGRESADAS   \n42C4BA4A-BE24-48BA-9DCE-636CBF725C07  INCUMPLIENTO RANGO DE ENTREGA   \n5c5c2a691e344a9b8d06e95d29103570               PREVENTAS INGRESADAS   \n6de09ae1772b4263ab45e0be51c33bea                PROBLEMAS CON AUDIO   \n15d3937baef44ed79e754170ae9e8807               PREVENTAS INGRESADAS   \n\n                                      Comentarios  Flag_Comentarios  \\\ncontactid                                                             \na780d55ae00548dc93f4542e9a41bd57              NaN               NaN   \n416e006a1213490ebdfd6013252b892e              NaN               NaN   \n5cf2b47fb1a847d9a1d4836fb3fdd160              NaN               NaN   \n5cf2b47fb1a847d9a1d4836fb3fdd160              NaN               NaN   \n81FE0195-370D-48F9-AE40-04FADE6F35C5          NaN               NaN   \n589cf9bc42e149fdafd935bc01109b08              NaN               NaN   \n42C4BA4A-BE24-48BA-9DCE-636CBF725C07          NaN               NaN   \n5c5c2a691e344a9b8d06e95d29103570              NaN               NaN   \n6de09ae1772b4263ab45e0be51c33bea              NaN               NaN   \n15d3937baef44ed79e754170ae9e8807              NaN               NaN   \n\n                                      id_pedido_y  \ncontactid                                          \na780d55ae00548dc93f4542e9a41bd57              NaN  \n416e006a1213490ebdfd6013252b892e              NaN  \n5cf2b47fb1a847d9a1d4836fb3fdd160              NaN  \n5cf2b47fb1a847d9a1d4836fb3fdd160              NaN  \n81FE0195-370D-48F9-AE40-04FADE6F35C5          NaN  \n589cf9bc42e149fdafd935bc01109b08              NaN  \n42C4BA4A-BE24-48BA-9DCE-636CBF725C07          NaN  \n5c5c2a691e344a9b8d06e95d29103570              NaN  \n6de09ae1772b4263ab45e0be51c33bea              NaN  \n15d3937baef44ed79e754170ae9e8807              NaN  \n\n[10 rows x 210 columns]",
      "text/html": "<div>\n<style scoped>\n    .dataframe tbody tr th:only-of-type {\n        vertical-align: middle;\n    }\n\n    .dataframe tbody tr th {\n        vertical-align: top;\n    }\n\n    .dataframe thead th {\n        text-align: right;\n    }\n</style>\n<table border=\"1\" class=\"dataframe\">\n  <thead>\n    <tr style=\"text-align: right;\">\n      <th></th>\n      <th>tipo_gestion</th>\n      <th>id_pedido_x</th>\n      <th>id_gss_ws</th>\n      <th>id_producto</th>\n      <th>nom_campana</th>\n      <th>nom_producto</th>\n      <th>preciooferta</th>\n      <th>Nom_Cliente</th>\n      <th>ApellidoCliente</th>\n      <th>email</th>\n      <th>...</th>\n      <th>MT_cmbOperacionMovil2BO</th>\n      <th>MT_cmbSubOperacionMovil2BO</th>\n      <th>MT_cmbOperacionFijaBO</th>\n      <th>MT_cmbSubOperacionFijaBO</th>\n      <th>PRODUCTO_VENTA</th>\n      <th>Numero0800</th>\n      <th>Submotivo_confirma</th>\n      <th>Comentarios</th>\n      <th>Flag_Comentarios</th>\n      <th>id_pedido_y</th>\n    </tr>\n    <tr>\n      <th>contactid</th>\n      <th></th>\n      <th></th>\n      <th></th>\n      <th></th>\n      <th></th>\n      <th></th>\n      <th></th>\n      <th></th>\n      <th></th>\n      <th></th>\n      <th></th>\n      <th></th>\n      <th></th>\n      <th></th>\n      <th></th>\n      <th></th>\n      <th></th>\n      <th></th>\n      <th></th>\n      <th></th>\n      <th></th>\n    </tr>\n  </thead>\n  <tbody>\n    <tr>\n      <th>a780d55ae00548dc93f4542e9a41bd57</th>\n      <td>TmpMovilOnLineRegular2_AD</td>\n      <td>556281080.0</td>\n      <td>5549241.0</td>\n      <td>0</td>\n      <td>CHIP M4 ALTA</td>\n      <td>Samsung Galaxy A30s|NEGRO|Residencial|Portabil...</td>\n      <td>0.0</td>\n      <td>nombres</td>\n      <td>NaN</td>\n      <td>demo@demo.com</td>\n      <td>...</td>\n      <td>NaN</td>\n      <td>NaN</td>\n      <td>NaN</td>\n      <td>NaN</td>\n      <td>CHIP Alta</td>\n      <td>NaN</td>\n      <td>PREVENTAS INGRESADAS</td>\n      <td>NaN</td>\n      <td>NaN</td>\n      <td>NaN</td>\n    </tr>\n    <tr>\n      <th>416e006a1213490ebdfd6013252b892e</th>\n      <td>TmpMovilOnLineRegular2_AD</td>\n      <td>NaN</td>\n      <td>5549409.0</td>\n      <td>0</td>\n      <td>CHIP M4 PORTA</td>\n      <td>Samsung Galaxy A30s|NEGRO|Residencial|Portabil...</td>\n      <td>0.0</td>\n      <td>nombres</td>\n      <td>NaN</td>\n      <td>demo@demo.com</td>\n      <td>...</td>\n      <td>NaN</td>\n      <td>NaN</td>\n      <td>NaN</td>\n      <td>NaN</td>\n      <td>CHIP Porta</td>\n      <td>NaN</td>\n      <td>PROBLEMAS CON AUDIO</td>\n      <td>NaN</td>\n      <td>NaN</td>\n      <td>NaN</td>\n    </tr>\n    <tr>\n      <th>5cf2b47fb1a847d9a1d4836fb3fdd160</th>\n      <td>TmpMovilOnLineRegular2_AD</td>\n      <td>556364810.0</td>\n      <td>5549589.0</td>\n      <td>0</td>\n      <td>CHIP M4 PORTA</td>\n      <td>Movistar Chip Mi Movistar|NEGRO|Residencial|Po...</td>\n      <td>0.0</td>\n      <td>NaN</td>\n      <td>NaN</td>\n      <td>demo@demo.com</td>\n      <td>...</td>\n      <td>NaN</td>\n      <td>NaN</td>\n      <td>NaN</td>\n      <td>NaN</td>\n      <td>CHIP Porta</td>\n      <td>NaN</td>\n      <td>PREVENTAS INGRESADAS</td>\n      <td>NaN</td>\n      <td>NaN</td>\n      <td>NaN</td>\n    </tr>\n    <tr>\n      <th>5cf2b47fb1a847d9a1d4836fb3fdd160</th>\n      <td>TmpMovilOnLineRegular2_AD</td>\n      <td>556363783.0</td>\n      <td>5549589.0</td>\n      <td>0</td>\n      <td>CHIP M4 PORTA</td>\n      <td>Movistar Chip Mi Movistar|NEGRO|Residencial|Po...</td>\n      <td>0.0</td>\n      <td>NaN</td>\n      <td>NaN</td>\n      <td>demo@demo.com</td>\n      <td>...</td>\n      <td>NaN</td>\n      <td>NaN</td>\n      <td>NaN</td>\n      <td>NaN</td>\n      <td>CHIP Porta</td>\n      <td>NaN</td>\n      <td>PREVENTAS INGRESADAS</td>\n      <td>NaN</td>\n      <td>NaN</td>\n      <td>NaN</td>\n    </tr>\n    <tr>\n      <th>81FE0195-370D-48F9-AE40-04FADE6F35C5</th>\n      <td>TmpMovilOnLineRegular2_AD</td>\n      <td>556908840.0</td>\n      <td>NaN</td>\n      <td>0</td>\n      <td>CHIP M4 PORTA</td>\n      <td>NaN</td>\n      <td>NaN</td>\n      <td>nombres</td>\n      <td>No</td>\n      <td>NaN</td>\n      <td>...</td>\n      <td>NaN</td>\n      <td>NaN</td>\n      <td>NaN</td>\n      <td>NaN</td>\n      <td>CHIP Porta</td>\n      <td>NaN</td>\n      <td>PREVENTAS INGRESADAS</td>\n      <td>NaN</td>\n      <td>NaN</td>\n      <td>NaN</td>\n    </tr>\n    <tr>\n      <th>589cf9bc42e149fdafd935bc01109b08</th>\n      <td>TmpMovilOnLineRegular2_AD</td>\n      <td>556376648.0</td>\n      <td>5549674.0</td>\n      <td>0</td>\n      <td>CHIP M4 ALTA</td>\n      <td>Samsung Galaxy A20s|NEGRO|Residencial|Portabil...</td>\n      <td>0.0</td>\n      <td>nombres</td>\n      <td>NaN</td>\n      <td>demo@demo.com</td>\n      <td>...</td>\n      <td>NaN</td>\n      <td>NaN</td>\n      <td>NaN</td>\n      <td>NaN</td>\n      <td>CHIP Alta</td>\n      <td>NaN</td>\n      <td>PREVENTAS INGRESADAS</td>\n      <td>NaN</td>\n      <td>NaN</td>\n      <td>NaN</td>\n    </tr>\n    <tr>\n      <th>42C4BA4A-BE24-48BA-9DCE-636CBF725C07</th>\n      <td>TmpMovilOnLineRegular2_AD</td>\n      <td>NaN</td>\n      <td>NaN</td>\n      <td>0</td>\n      <td>CHIP M4 PORTA</td>\n      <td>NaN</td>\n      <td>NaN</td>\n      <td>demo</td>\n      <td>No</td>\n      <td>NaN</td>\n      <td>...</td>\n      <td>NaN</td>\n      <td>NaN</td>\n      <td>NaN</td>\n      <td>NaN</td>\n      <td>CHIP Porta</td>\n      <td>NaN</td>\n      <td>INCUMPLIENTO RANGO DE ENTREGA</td>\n      <td>NaN</td>\n      <td>NaN</td>\n      <td>NaN</td>\n    </tr>\n    <tr>\n      <th>5c5c2a691e344a9b8d06e95d29103570</th>\n      <td>TmpMovilOnLineRegular2_AD</td>\n      <td>556386237.0</td>\n      <td>5549977.0</td>\n      <td>0</td>\n      <td>CHIP M4 ALTA</td>\n      <td>Samsung Galaxy A20s|NEGRO|Residencial|Portabil...</td>\n      <td>0.0</td>\n      <td>NaN</td>\n      <td>NaN</td>\n      <td>non-data@non-data.com</td>\n      <td>...</td>\n      <td>NaN</td>\n      <td>NaN</td>\n      <td>NaN</td>\n      <td>NaN</td>\n      <td>CHIP Alta</td>\n      <td>NaN</td>\n      <td>PREVENTAS INGRESADAS</td>\n      <td>NaN</td>\n      <td>NaN</td>\n      <td>NaN</td>\n    </tr>\n    <tr>\n      <th>6de09ae1772b4263ab45e0be51c33bea</th>\n      <td>TmpMovilOnLineRegular2_AD</td>\n      <td>NaN</td>\n      <td>5550099.0</td>\n      <td>0</td>\n      <td>CHIP M4 ALTA</td>\n      <td>Samsung Galaxy A20s|NEGRO|Residencial|Portabil...</td>\n      <td>0.0</td>\n      <td>nombres</td>\n      <td>NaN</td>\n      <td>demo@demo.com</td>\n      <td>...</td>\n      <td>NaN</td>\n      <td>NaN</td>\n      <td>NaN</td>\n      <td>NaN</td>\n      <td>CHIP Alta</td>\n      <td>NaN</td>\n      <td>PROBLEMAS CON AUDIO</td>\n      <td>NaN</td>\n      <td>NaN</td>\n      <td>NaN</td>\n    </tr>\n    <tr>\n      <th>15d3937baef44ed79e754170ae9e8807</th>\n      <td>TmpMovilOnLineRegular2_AD</td>\n      <td>556884427.0</td>\n      <td>5550268.0</td>\n      <td>0</td>\n      <td>CHIP M4 PORTA</td>\n      <td>Huawei Y6 2019|NEGRO|Residencial|Portabilidad|...</td>\n      <td>0.0</td>\n      <td>nombres</td>\n      <td>NaN</td>\n      <td>demo@demo.com</td>\n      <td>...</td>\n      <td>NaN</td>\n      <td>NaN</td>\n      <td>NaN</td>\n      <td>NaN</td>\n      <td>CHIP Porta</td>\n      <td>NaN</td>\n      <td>PREVENTAS INGRESADAS</td>\n      <td>NaN</td>\n      <td>NaN</td>\n      <td>NaN</td>\n    </tr>\n  </tbody>\n</table>\n<p>10 rows × 210 columns</p>\n</div>"
     },
     "metadata": {},
     "execution_count": 19
    }
   ],
   "source": [
    "reporte['id_pedido_y'] = ''\n",
    "reporte['id_pedido_y'].replace('', np.nan, inplace=True)\n",
    "reporte"
   ]
  },
  {
   "cell_type": "code",
   "execution_count": 16,
   "metadata": {},
   "outputs": [
    {
     "output_type": "execute_result",
     "data": {
      "text/plain": "                                                   tipo_gestion  id_pedido_x  \\\ncontactid                                                                      \na780d55ae00548dc93f4542e9a41bd57      TmpMovilOnLineRegular2_AD  556281080.0   \n416e006a1213490ebdfd6013252b892e      TmpMovilOnLineRegular2_AD          NaN   \n5cf2b47fb1a847d9a1d4836fb3fdd160      TmpMovilOnLineRegular2_AD  556364810.0   \n5cf2b47fb1a847d9a1d4836fb3fdd160      TmpMovilOnLineRegular2_AD  556363783.0   \n81FE0195-370D-48F9-AE40-04FADE6F35C5  TmpMovilOnLineRegular2_AD  556908840.0   \n589cf9bc42e149fdafd935bc01109b08      TmpMovilOnLineRegular2_AD  556376648.0   \n42C4BA4A-BE24-48BA-9DCE-636CBF725C07  TmpMovilOnLineRegular2_AD          NaN   \n5c5c2a691e344a9b8d06e95d29103570      TmpMovilOnLineRegular2_AD  556386237.0   \n6de09ae1772b4263ab45e0be51c33bea      TmpMovilOnLineRegular2_AD          NaN   \n15d3937baef44ed79e754170ae9e8807      TmpMovilOnLineRegular2_AD  556884427.0   \n\n                                      id_gss_ws  id_producto    nom_campana  \\\ncontactid                                                                     \na780d55ae00548dc93f4542e9a41bd57      5549241.0            0   CHIP M4 ALTA   \n416e006a1213490ebdfd6013252b892e      5549409.0            0  CHIP M4 PORTA   \n5cf2b47fb1a847d9a1d4836fb3fdd160      5549589.0            0  CHIP M4 PORTA   \n5cf2b47fb1a847d9a1d4836fb3fdd160      5549589.0            0  CHIP M4 PORTA   \n81FE0195-370D-48F9-AE40-04FADE6F35C5        NaN            0  CHIP M4 PORTA   \n589cf9bc42e149fdafd935bc01109b08      5549674.0            0   CHIP M4 ALTA   \n42C4BA4A-BE24-48BA-9DCE-636CBF725C07        NaN            0  CHIP M4 PORTA   \n5c5c2a691e344a9b8d06e95d29103570      5549977.0            0   CHIP M4 ALTA   \n6de09ae1772b4263ab45e0be51c33bea      5550099.0            0   CHIP M4 ALTA   \n15d3937baef44ed79e754170ae9e8807      5550268.0            0  CHIP M4 PORTA   \n\n                                                                           nom_producto  \\\ncontactid                                                                                 \na780d55ae00548dc93f4542e9a41bd57      Samsung Galaxy A30s|NEGRO|Residencial|Portabil...   \n416e006a1213490ebdfd6013252b892e      Samsung Galaxy A30s|NEGRO|Residencial|Portabil...   \n5cf2b47fb1a847d9a1d4836fb3fdd160      Movistar Chip Mi Movistar|NEGRO|Residencial|Po...   \n5cf2b47fb1a847d9a1d4836fb3fdd160      Movistar Chip Mi Movistar|NEGRO|Residencial|Po...   \n81FE0195-370D-48F9-AE40-04FADE6F35C5                                                NaN   \n589cf9bc42e149fdafd935bc01109b08      Samsung Galaxy A20s|NEGRO|Residencial|Portabil...   \n42C4BA4A-BE24-48BA-9DCE-636CBF725C07                                                NaN   \n5c5c2a691e344a9b8d06e95d29103570      Samsung Galaxy A20s|NEGRO|Residencial|Portabil...   \n6de09ae1772b4263ab45e0be51c33bea      Samsung Galaxy A20s|NEGRO|Residencial|Portabil...   \n15d3937baef44ed79e754170ae9e8807      Huawei Y6 2019|NEGRO|Residencial|Portabilidad|...   \n\n                                      preciooferta Nom_Cliente  \\\ncontactid                                                        \na780d55ae00548dc93f4542e9a41bd57               0.0     nombres   \n416e006a1213490ebdfd6013252b892e               0.0     nombres   \n5cf2b47fb1a847d9a1d4836fb3fdd160               0.0         NaN   \n5cf2b47fb1a847d9a1d4836fb3fdd160               0.0         NaN   \n81FE0195-370D-48F9-AE40-04FADE6F35C5           NaN     nombres   \n589cf9bc42e149fdafd935bc01109b08               0.0     nombres   \n42C4BA4A-BE24-48BA-9DCE-636CBF725C07           NaN        demo   \n5c5c2a691e344a9b8d06e95d29103570               0.0         NaN   \n6de09ae1772b4263ab45e0be51c33bea               0.0     nombres   \n15d3937baef44ed79e754170ae9e8807               0.0     nombres   \n\n                                     ApellidoCliente                  email  \\\ncontactid                                                                     \na780d55ae00548dc93f4542e9a41bd57                 NaN          demo@demo.com   \n416e006a1213490ebdfd6013252b892e                 NaN          demo@demo.com   \n5cf2b47fb1a847d9a1d4836fb3fdd160                 NaN          demo@demo.com   \n5cf2b47fb1a847d9a1d4836fb3fdd160                 NaN          demo@demo.com   \n81FE0195-370D-48F9-AE40-04FADE6F35C5              No                    NaN   \n589cf9bc42e149fdafd935bc01109b08                 NaN          demo@demo.com   \n42C4BA4A-BE24-48BA-9DCE-636CBF725C07              No                    NaN   \n5c5c2a691e344a9b8d06e95d29103570                 NaN  non-data@non-data.com   \n6de09ae1772b4263ab45e0be51c33bea                 NaN          demo@demo.com   \n15d3937baef44ed79e754170ae9e8807                 NaN          demo@demo.com   \n\n                                      ...  MT_cmbOperacionMovil2BO  \\\ncontactid                             ...                            \na780d55ae00548dc93f4542e9a41bd57      ...                      NaN   \n416e006a1213490ebdfd6013252b892e      ...                      NaN   \n5cf2b47fb1a847d9a1d4836fb3fdd160      ...                      NaN   \n5cf2b47fb1a847d9a1d4836fb3fdd160      ...                      NaN   \n81FE0195-370D-48F9-AE40-04FADE6F35C5  ...                      NaN   \n589cf9bc42e149fdafd935bc01109b08      ...                      NaN   \n42C4BA4A-BE24-48BA-9DCE-636CBF725C07  ...                      NaN   \n5c5c2a691e344a9b8d06e95d29103570      ...                      NaN   \n6de09ae1772b4263ab45e0be51c33bea      ...                      NaN   \n15d3937baef44ed79e754170ae9e8807      ...                      NaN   \n\n                                      MT_cmbSubOperacionMovil2BO  \\\ncontactid                                                          \na780d55ae00548dc93f4542e9a41bd57                             NaN   \n416e006a1213490ebdfd6013252b892e                             NaN   \n5cf2b47fb1a847d9a1d4836fb3fdd160                             NaN   \n5cf2b47fb1a847d9a1d4836fb3fdd160                             NaN   \n81FE0195-370D-48F9-AE40-04FADE6F35C5                         NaN   \n589cf9bc42e149fdafd935bc01109b08                             NaN   \n42C4BA4A-BE24-48BA-9DCE-636CBF725C07                         NaN   \n5c5c2a691e344a9b8d06e95d29103570                             NaN   \n6de09ae1772b4263ab45e0be51c33bea                             NaN   \n15d3937baef44ed79e754170ae9e8807                             NaN   \n\n                                      MT_cmbOperacionFijaBO  \\\ncontactid                                                     \na780d55ae00548dc93f4542e9a41bd57                        NaN   \n416e006a1213490ebdfd6013252b892e                        NaN   \n5cf2b47fb1a847d9a1d4836fb3fdd160                        NaN   \n5cf2b47fb1a847d9a1d4836fb3fdd160                        NaN   \n81FE0195-370D-48F9-AE40-04FADE6F35C5                    NaN   \n589cf9bc42e149fdafd935bc01109b08                        NaN   \n42C4BA4A-BE24-48BA-9DCE-636CBF725C07                    NaN   \n5c5c2a691e344a9b8d06e95d29103570                        NaN   \n6de09ae1772b4263ab45e0be51c33bea                        NaN   \n15d3937baef44ed79e754170ae9e8807                        NaN   \n\n                                      MT_cmbSubOperacionFijaBO  \\\ncontactid                                                        \na780d55ae00548dc93f4542e9a41bd57                           NaN   \n416e006a1213490ebdfd6013252b892e                           NaN   \n5cf2b47fb1a847d9a1d4836fb3fdd160                           NaN   \n5cf2b47fb1a847d9a1d4836fb3fdd160                           NaN   \n81FE0195-370D-48F9-AE40-04FADE6F35C5                       NaN   \n589cf9bc42e149fdafd935bc01109b08                           NaN   \n42C4BA4A-BE24-48BA-9DCE-636CBF725C07                       NaN   \n5c5c2a691e344a9b8d06e95d29103570                           NaN   \n6de09ae1772b4263ab45e0be51c33bea                           NaN   \n15d3937baef44ed79e754170ae9e8807                           NaN   \n\n                                      PRODUCTO_VENTA  Numero0800  \\\ncontactid                                                          \na780d55ae00548dc93f4542e9a41bd57           CHIP Alta         NaN   \n416e006a1213490ebdfd6013252b892e          CHIP Porta         NaN   \n5cf2b47fb1a847d9a1d4836fb3fdd160          CHIP Porta         NaN   \n5cf2b47fb1a847d9a1d4836fb3fdd160          CHIP Porta         NaN   \n81FE0195-370D-48F9-AE40-04FADE6F35C5      CHIP Porta         NaN   \n589cf9bc42e149fdafd935bc01109b08           CHIP Alta         NaN   \n42C4BA4A-BE24-48BA-9DCE-636CBF725C07      CHIP Porta         NaN   \n5c5c2a691e344a9b8d06e95d29103570           CHIP Alta         NaN   \n6de09ae1772b4263ab45e0be51c33bea           CHIP Alta         NaN   \n15d3937baef44ed79e754170ae9e8807          CHIP Porta         NaN   \n\n                                                 Submotivo_confirma  \\\ncontactid                                                             \na780d55ae00548dc93f4542e9a41bd57               PREVENTAS INGRESADAS   \n416e006a1213490ebdfd6013252b892e                PROBLEMAS CON AUDIO   \n5cf2b47fb1a847d9a1d4836fb3fdd160               PREVENTAS INGRESADAS   \n5cf2b47fb1a847d9a1d4836fb3fdd160               PREVENTAS INGRESADAS   \n81FE0195-370D-48F9-AE40-04FADE6F35C5           PREVENTAS INGRESADAS   \n589cf9bc42e149fdafd935bc01109b08               PREVENTAS INGRESADAS   \n42C4BA4A-BE24-48BA-9DCE-636CBF725C07  INCUMPLIENTO RANGO DE ENTREGA   \n5c5c2a691e344a9b8d06e95d29103570               PREVENTAS INGRESADAS   \n6de09ae1772b4263ab45e0be51c33bea                PROBLEMAS CON AUDIO   \n15d3937baef44ed79e754170ae9e8807               PREVENTAS INGRESADAS   \n\n                                      Comentarios  Flag_Comentarios  \\\ncontactid                                                             \na780d55ae00548dc93f4542e9a41bd57              NaN               NaN   \n416e006a1213490ebdfd6013252b892e              NaN               NaN   \n5cf2b47fb1a847d9a1d4836fb3fdd160              NaN               NaN   \n5cf2b47fb1a847d9a1d4836fb3fdd160              NaN               NaN   \n81FE0195-370D-48F9-AE40-04FADE6F35C5          NaN               NaN   \n589cf9bc42e149fdafd935bc01109b08              NaN               NaN   \n42C4BA4A-BE24-48BA-9DCE-636CBF725C07          NaN               NaN   \n5c5c2a691e344a9b8d06e95d29103570              NaN               NaN   \n6de09ae1772b4263ab45e0be51c33bea              NaN               NaN   \n15d3937baef44ed79e754170ae9e8807              NaN               NaN   \n\n                                      id_pedido_y  \ncontactid                                          \na780d55ae00548dc93f4542e9a41bd57      556281080.0  \n416e006a1213490ebdfd6013252b892e              NaN  \n5cf2b47fb1a847d9a1d4836fb3fdd160      556364810.0  \n5cf2b47fb1a847d9a1d4836fb3fdd160      556364810.0  \n81FE0195-370D-48F9-AE40-04FADE6F35C5  556908840.0  \n589cf9bc42e149fdafd935bc01109b08      556376648.0  \n42C4BA4A-BE24-48BA-9DCE-636CBF725C07          NaN  \n5c5c2a691e344a9b8d06e95d29103570      556386237.0  \n6de09ae1772b4263ab45e0be51c33bea              NaN  \n15d3937baef44ed79e754170ae9e8807      556884427.0  \n\n[10 rows x 210 columns]",
      "text/html": "<div>\n<style scoped>\n    .dataframe tbody tr th:only-of-type {\n        vertical-align: middle;\n    }\n\n    .dataframe tbody tr th {\n        vertical-align: top;\n    }\n\n    .dataframe thead th {\n        text-align: right;\n    }\n</style>\n<table border=\"1\" class=\"dataframe\">\n  <thead>\n    <tr style=\"text-align: right;\">\n      <th></th>\n      <th>tipo_gestion</th>\n      <th>id_pedido_x</th>\n      <th>id_gss_ws</th>\n      <th>id_producto</th>\n      <th>nom_campana</th>\n      <th>nom_producto</th>\n      <th>preciooferta</th>\n      <th>Nom_Cliente</th>\n      <th>ApellidoCliente</th>\n      <th>email</th>\n      <th>...</th>\n      <th>MT_cmbOperacionMovil2BO</th>\n      <th>MT_cmbSubOperacionMovil2BO</th>\n      <th>MT_cmbOperacionFijaBO</th>\n      <th>MT_cmbSubOperacionFijaBO</th>\n      <th>PRODUCTO_VENTA</th>\n      <th>Numero0800</th>\n      <th>Submotivo_confirma</th>\n      <th>Comentarios</th>\n      <th>Flag_Comentarios</th>\n      <th>id_pedido_y</th>\n    </tr>\n    <tr>\n      <th>contactid</th>\n      <th></th>\n      <th></th>\n      <th></th>\n      <th></th>\n      <th></th>\n      <th></th>\n      <th></th>\n      <th></th>\n      <th></th>\n      <th></th>\n      <th></th>\n      <th></th>\n      <th></th>\n      <th></th>\n      <th></th>\n      <th></th>\n      <th></th>\n      <th></th>\n      <th></th>\n      <th></th>\n      <th></th>\n    </tr>\n  </thead>\n  <tbody>\n    <tr>\n      <th>a780d55ae00548dc93f4542e9a41bd57</th>\n      <td>TmpMovilOnLineRegular2_AD</td>\n      <td>556281080.0</td>\n      <td>5549241.0</td>\n      <td>0</td>\n      <td>CHIP M4 ALTA</td>\n      <td>Samsung Galaxy A30s|NEGRO|Residencial|Portabil...</td>\n      <td>0.0</td>\n      <td>nombres</td>\n      <td>NaN</td>\n      <td>demo@demo.com</td>\n      <td>...</td>\n      <td>NaN</td>\n      <td>NaN</td>\n      <td>NaN</td>\n      <td>NaN</td>\n      <td>CHIP Alta</td>\n      <td>NaN</td>\n      <td>PREVENTAS INGRESADAS</td>\n      <td>NaN</td>\n      <td>NaN</td>\n      <td>556281080.0</td>\n    </tr>\n    <tr>\n      <th>416e006a1213490ebdfd6013252b892e</th>\n      <td>TmpMovilOnLineRegular2_AD</td>\n      <td>NaN</td>\n      <td>5549409.0</td>\n      <td>0</td>\n      <td>CHIP M4 PORTA</td>\n      <td>Samsung Galaxy A30s|NEGRO|Residencial|Portabil...</td>\n      <td>0.0</td>\n      <td>nombres</td>\n      <td>NaN</td>\n      <td>demo@demo.com</td>\n      <td>...</td>\n      <td>NaN</td>\n      <td>NaN</td>\n      <td>NaN</td>\n      <td>NaN</td>\n      <td>CHIP Porta</td>\n      <td>NaN</td>\n      <td>PROBLEMAS CON AUDIO</td>\n      <td>NaN</td>\n      <td>NaN</td>\n      <td>NaN</td>\n    </tr>\n    <tr>\n      <th>5cf2b47fb1a847d9a1d4836fb3fdd160</th>\n      <td>TmpMovilOnLineRegular2_AD</td>\n      <td>556364810.0</td>\n      <td>5549589.0</td>\n      <td>0</td>\n      <td>CHIP M4 PORTA</td>\n      <td>Movistar Chip Mi Movistar|NEGRO|Residencial|Po...</td>\n      <td>0.0</td>\n      <td>NaN</td>\n      <td>NaN</td>\n      <td>demo@demo.com</td>\n      <td>...</td>\n      <td>NaN</td>\n      <td>NaN</td>\n      <td>NaN</td>\n      <td>NaN</td>\n      <td>CHIP Porta</td>\n      <td>NaN</td>\n      <td>PREVENTAS INGRESADAS</td>\n      <td>NaN</td>\n      <td>NaN</td>\n      <td>556364810.0</td>\n    </tr>\n    <tr>\n      <th>5cf2b47fb1a847d9a1d4836fb3fdd160</th>\n      <td>TmpMovilOnLineRegular2_AD</td>\n      <td>556363783.0</td>\n      <td>5549589.0</td>\n      <td>0</td>\n      <td>CHIP M4 PORTA</td>\n      <td>Movistar Chip Mi Movistar|NEGRO|Residencial|Po...</td>\n      <td>0.0</td>\n      <td>NaN</td>\n      <td>NaN</td>\n      <td>demo@demo.com</td>\n      <td>...</td>\n      <td>NaN</td>\n      <td>NaN</td>\n      <td>NaN</td>\n      <td>NaN</td>\n      <td>CHIP Porta</td>\n      <td>NaN</td>\n      <td>PREVENTAS INGRESADAS</td>\n      <td>NaN</td>\n      <td>NaN</td>\n      <td>556364810.0</td>\n    </tr>\n    <tr>\n      <th>81FE0195-370D-48F9-AE40-04FADE6F35C5</th>\n      <td>TmpMovilOnLineRegular2_AD</td>\n      <td>556908840.0</td>\n      <td>NaN</td>\n      <td>0</td>\n      <td>CHIP M4 PORTA</td>\n      <td>NaN</td>\n      <td>NaN</td>\n      <td>nombres</td>\n      <td>No</td>\n      <td>NaN</td>\n      <td>...</td>\n      <td>NaN</td>\n      <td>NaN</td>\n      <td>NaN</td>\n      <td>NaN</td>\n      <td>CHIP Porta</td>\n      <td>NaN</td>\n      <td>PREVENTAS INGRESADAS</td>\n      <td>NaN</td>\n      <td>NaN</td>\n      <td>556908840.0</td>\n    </tr>\n    <tr>\n      <th>589cf9bc42e149fdafd935bc01109b08</th>\n      <td>TmpMovilOnLineRegular2_AD</td>\n      <td>556376648.0</td>\n      <td>5549674.0</td>\n      <td>0</td>\n      <td>CHIP M4 ALTA</td>\n      <td>Samsung Galaxy A20s|NEGRO|Residencial|Portabil...</td>\n      <td>0.0</td>\n      <td>nombres</td>\n      <td>NaN</td>\n      <td>demo@demo.com</td>\n      <td>...</td>\n      <td>NaN</td>\n      <td>NaN</td>\n      <td>NaN</td>\n      <td>NaN</td>\n      <td>CHIP Alta</td>\n      <td>NaN</td>\n      <td>PREVENTAS INGRESADAS</td>\n      <td>NaN</td>\n      <td>NaN</td>\n      <td>556376648.0</td>\n    </tr>\n    <tr>\n      <th>42C4BA4A-BE24-48BA-9DCE-636CBF725C07</th>\n      <td>TmpMovilOnLineRegular2_AD</td>\n      <td>NaN</td>\n      <td>NaN</td>\n      <td>0</td>\n      <td>CHIP M4 PORTA</td>\n      <td>NaN</td>\n      <td>NaN</td>\n      <td>demo</td>\n      <td>No</td>\n      <td>NaN</td>\n      <td>...</td>\n      <td>NaN</td>\n      <td>NaN</td>\n      <td>NaN</td>\n      <td>NaN</td>\n      <td>CHIP Porta</td>\n      <td>NaN</td>\n      <td>INCUMPLIENTO RANGO DE ENTREGA</td>\n      <td>NaN</td>\n      <td>NaN</td>\n      <td>NaN</td>\n    </tr>\n    <tr>\n      <th>5c5c2a691e344a9b8d06e95d29103570</th>\n      <td>TmpMovilOnLineRegular2_AD</td>\n      <td>556386237.0</td>\n      <td>5549977.0</td>\n      <td>0</td>\n      <td>CHIP M4 ALTA</td>\n      <td>Samsung Galaxy A20s|NEGRO|Residencial|Portabil...</td>\n      <td>0.0</td>\n      <td>NaN</td>\n      <td>NaN</td>\n      <td>non-data@non-data.com</td>\n      <td>...</td>\n      <td>NaN</td>\n      <td>NaN</td>\n      <td>NaN</td>\n      <td>NaN</td>\n      <td>CHIP Alta</td>\n      <td>NaN</td>\n      <td>PREVENTAS INGRESADAS</td>\n      <td>NaN</td>\n      <td>NaN</td>\n      <td>556386237.0</td>\n    </tr>\n    <tr>\n      <th>6de09ae1772b4263ab45e0be51c33bea</th>\n      <td>TmpMovilOnLineRegular2_AD</td>\n      <td>NaN</td>\n      <td>5550099.0</td>\n      <td>0</td>\n      <td>CHIP M4 ALTA</td>\n      <td>Samsung Galaxy A20s|NEGRO|Residencial|Portabil...</td>\n      <td>0.0</td>\n      <td>nombres</td>\n      <td>NaN</td>\n      <td>demo@demo.com</td>\n      <td>...</td>\n      <td>NaN</td>\n      <td>NaN</td>\n      <td>NaN</td>\n      <td>NaN</td>\n      <td>CHIP Alta</td>\n      <td>NaN</td>\n      <td>PROBLEMAS CON AUDIO</td>\n      <td>NaN</td>\n      <td>NaN</td>\n      <td>NaN</td>\n    </tr>\n    <tr>\n      <th>15d3937baef44ed79e754170ae9e8807</th>\n      <td>TmpMovilOnLineRegular2_AD</td>\n      <td>556884427.0</td>\n      <td>5550268.0</td>\n      <td>0</td>\n      <td>CHIP M4 PORTA</td>\n      <td>Huawei Y6 2019|NEGRO|Residencial|Portabilidad|...</td>\n      <td>0.0</td>\n      <td>nombres</td>\n      <td>NaN</td>\n      <td>demo@demo.com</td>\n      <td>...</td>\n      <td>NaN</td>\n      <td>NaN</td>\n      <td>NaN</td>\n      <td>NaN</td>\n      <td>CHIP Porta</td>\n      <td>NaN</td>\n      <td>PREVENTAS INGRESADAS</td>\n      <td>NaN</td>\n      <td>NaN</td>\n      <td>556884427.0</td>\n    </tr>\n  </tbody>\n</table>\n<p>10 rows × 210 columns</p>\n</div>"
     },
     "metadata": {},
     "execution_count": 16
    }
   ],
   "source": [
    "# reporte['id_pedido_y'] = reporte['id_pedido_y'].fillna(reporte['id_pedido_x'])\n",
    "reporte['id_pedido_y'] = reporte['id_pedido_y'].replace(r'^\\s*$', reporte['id_pedido_x'], regex=True)\n",
    "reporte"
   ]
  },
  {
   "cell_type": "code",
   "execution_count": null,
   "metadata": {},
   "outputs": [],
   "source": [
    "class ReporteUM:\n",
    "    def __init__(self, file):\n",
    "        self.today = datetime.today().strftime('%Y-%m-%d')\n",
    "        self.input = file\n",
    "        self.output = re.sub(r'input', 'output', file)\n",
    "        self.sheet = \"UNIFICADO_MOVIL\"\n",
    "        #self.output = 'REPORTE_UNIFICADO_MOVIL_{}.xlsx'.format(self.today)\n",
    "\n",
    "\n",
    "    def upload(self):\n",
    "        if os.path.isfile(self.input):\n",
    "            self.rp = pd.read_excel(self.input, index_col=0, sheet_name=self.sheet)\n",
    "            self.rp = self.rp.reset_index()\n",
    "            print(\"xlsx imported as rp\")\n",
    "            # print(type(self.rp))\n",
    "            shape_before_transformation = self.rp.shape\n",
    "            print('before transformation: ', shape_before_transformation)\n",
    "        else:\n",
    "            print(\"no data file in root.\")\n",
    "    \n",
    "\n",
    "    def clean(self):\n",
    "        self.rp = self.rp.replace(np.nan, '', regex=True) # NaN to empty string\n",
    "        self.rp[\"id_pedido\"] = self.rp[\"id_pedido\"].astype(str)\n",
    "        filter = self.rp[\"id_pedido\"].str.contains(\"[A-Za-z]\", na = False)\n",
    "        self.rp = self.rp[filter == False] # Lo opuesto al filtro\n",
    "        shape_clean_data = self.rp.shape\n",
    "        print('clean data:', shape_clean_data)\n",
    "\n",
    "\n",
    "    def filter_by_month(self, mo):\n",
    "        filter = self.rp[\"fec_registro\"].dt.month.isin([mo])\n",
    "        self.rp = self.rp[filter]\n",
    "        shape_current_month = self.rp.shape\n",
    "        print('current month:', shape_current_month)\n",
    "\n",
    "\n",
    "    def transform(self):        \n",
    "        self.search = \"10\"\n",
    "        self.bool_rp = self.rp[\"id_pedido\"].str.startswith(self.search, na=False)\n",
    "        # print(self.bool_rp)\n",
    "        self.rp10 = self.rp[self.bool_rp]\n",
    "        # print(self.rp10)\n",
    "    \n",
    "\n",
    "    def merge(self):\n",
    "        self.rpm = pd.merge(self.rp, self.rp10[['contactid', 'id_pedido']], on='contactid', how = 'left')\n",
    "        #self.rpm = self.rpm.drop('id_pedido_x', axis = 1)\n",
    "        #self.rpm = self.rpm.rename({'id_pedido_y':'id_pedido'}, axis = 1)\n",
    "        self.rpm['id_pedido_y'] = self.rpm['id_pedido_y'].fillna(self.rp['id_pedido'])\n",
    "        # rgx = r'\\w+[\\d@]\\w+|^$|nan'\n",
    "        # filter = self.rpm['id_pedido_y'].str.contains(rgx)\n",
    "        # self.rpm = self.rpm[filter]\n",
    "        shape_after_transformation = self.rpm.shape\n",
    "        print('after transformation: ', shape_after_transformation)\n",
    "\n",
    "\n",
    "    def export(self):\n",
    "        engine = 'xlsxwriter' # or 'openpyxl', 'xlwt'\n",
    "        writer = pd.ExcelWriter(self.output, engine=engine)\n",
    "        self.rpm.to_excel(writer, index=False)\n",
    "        writer.close()\n",
    "        #self.rpm.to_excel(self.output, index=False)\n",
    "\n",
    "\n",
    "    def log(self, file_name):\n",
    "        ts = datetime.now()\n",
    "        ts = ts.strftime('%Y-%m-%d %H:%M:%S')\n",
    "        lvar = str(len(self.rpm))\n",
    "        with open(file_name, \"a+\") as file_object:\n",
    "            file_object.write(ts)\n",
    "            file_object.write(\",\")\n",
    "            file_object.write(lvar)\n",
    "            file_object.write(\"\\n\")"
   ]
  },
  {
   "cell_type": "code",
   "execution_count": null,
   "metadata": {},
   "outputs": [],
   "source": [
    "# files = list(glob.glob('input/*'))\n",
    "# for file in files:\n",
    "#     reporte = ReporteUM(file)\n",
    "#     time_0 = datetime.now().time()\n",
    "#     print('time_0: ', time_0)\n",
    "\n",
    "#     reporte.upload()\n",
    "#     time_1 = datetime.now().time()\n",
    "#     print('time_1: ', time_1)\n",
    "\n",
    "#     # reporte.filter_by_month(2)\n",
    "#     reporte.filter_by_month(datetime.now().month)\n",
    "#     time_2 = datetime.now().time()\n",
    "#     print('time_2: ', time_2)\n",
    "\n",
    "#     reporte.transform()\n",
    "#     time_3 = datetime.now().time()\n",
    "#     print('time_3: ', time_3)"
   ]
  },
  {
   "cell_type": "code",
   "execution_count": null,
   "metadata": {},
   "outputs": [],
   "source": [
    "files = list(glob.glob('input/*'))\n",
    "file = files[0]"
   ]
  },
  {
   "cell_type": "code",
   "execution_count": null,
   "metadata": {},
   "outputs": [],
   "source": [
    "reporte = ReporteUM(file)\n",
    "reporte.upload()\n",
    "# reporte.filter_by_month(datetime.now().month)"
   ]
  },
  {
   "cell_type": "code",
   "execution_count": null,
   "metadata": {},
   "outputs": [],
   "source": [
    "# reporte.clean()\n",
    "reporte.rp = reporte.rp.replace(np.nan, '', regex=True) # NaN to empty string\n",
    "reporte.rp[\"id_pedido\"] = reporte.rp[\"id_pedido\"].astype(str)\n",
    "filter = reporte.rp[\"id_pedido\"].str.contains(\"[A-Za-z]\", na = False)\n",
    "reporte.rp = reporte.rp[filter == False] # Lo opuesto al filtro\n",
    "shape_clean_data = reporte.rp.shape\n",
    "print('clean data:', shape_clean_data)\n",
    "# reporte.rp"
   ]
  },
  {
   "cell_type": "code",
   "execution_count": null,
   "metadata": {},
   "outputs": [],
   "source": [
    "reporte.filter_by_month(datetime.now().month)"
   ]
  },
  {
   "cell_type": "code",
   "execution_count": null,
   "metadata": {},
   "outputs": [],
   "source": [
    "reporte.transform()"
   ]
  },
  {
   "cell_type": "code",
   "execution_count": null,
   "metadata": {},
   "outputs": [],
   "source": [
    "reporte.merge()"
   ]
  },
  {
   "cell_type": "code",
   "execution_count": null,
   "metadata": {},
   "outputs": [],
   "source": [
    "reporte.export()"
   ]
  },
  {
   "cell_type": "code",
   "execution_count": null,
   "metadata": {},
   "outputs": [],
   "source": [
    "reporte.log(file)"
   ]
  },
  {
   "cell_type": "code",
   "execution_count": null,
   "metadata": {},
   "outputs": [],
   "source": []
  }
 ]
}